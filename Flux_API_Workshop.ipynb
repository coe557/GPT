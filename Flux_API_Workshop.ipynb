{
  "nbformat": 4,
  "nbformat_minor": 0,
  "metadata": {
    "colab": {
      "provenance": [],
      "include_colab_link": true
    },
    "kernelspec": {
      "name": "python3",
      "display_name": "Python 3"
    },
    "language_info": {
      "name": "python"
    }
  },
  "cells": [
    {
      "cell_type": "markdown",
      "metadata": {
        "id": "view-in-github",
        "colab_type": "text"
      },
      "source": [
        "<a href=\"https://colab.research.google.com/github/coe557/GPT/blob/main/Flux_API_Workshop.ipynb\" target=\"_parent\"><img src=\"https://colab.research.google.com/assets/colab-badge.svg\" alt=\"Open In Colab\"/></a>"
      ]
    },
    {
      "cell_type": "code",
      "source": [
        "!pip install requests"
      ],
      "metadata": {
        "colab": {
          "base_uri": "https://localhost:8080/"
        },
        "collapsed": true,
        "id": "27lNOHHEmXB1",
        "outputId": "f19c3189-201c-467d-b811-a7a3ebf21926"
      },
      "execution_count": null,
      "outputs": [
        {
          "output_type": "stream",
          "name": "stdout",
          "text": [
            "Requirement already satisfied: requests in /usr/local/lib/python3.11/dist-packages (2.32.3)\n",
            "Requirement already satisfied: charset-normalizer<4,>=2 in /usr/local/lib/python3.11/dist-packages (from requests) (3.4.2)\n",
            "Requirement already satisfied: idna<4,>=2.5 in /usr/local/lib/python3.11/dist-packages (from requests) (3.10)\n",
            "Requirement already satisfied: urllib3<3,>=1.21.1 in /usr/local/lib/python3.11/dist-packages (from requests) (2.4.0)\n",
            "Requirement already satisfied: certifi>=2017.4.17 in /usr/local/lib/python3.11/dist-packages (from requests) (2025.4.26)\n"
          ]
        }
      ]
    },
    {
      "cell_type": "code",
      "source": [
        "!pip install pillow"
      ],
      "metadata": {
        "colab": {
          "base_uri": "https://localhost:8080/"
        },
        "collapsed": true,
        "id": "Sy-mxomjmgoe",
        "outputId": "b6a0beb7-6c11-4318-832b-d0b9dd8c9fe4"
      },
      "execution_count": null,
      "outputs": [
        {
          "output_type": "stream",
          "name": "stdout",
          "text": [
            "Requirement already satisfied: pillow in /usr/local/lib/python3.11/dist-packages (11.2.1)\n"
          ]
        }
      ]
    },
    {
      "cell_type": "code",
      "source": [
        "import requests\n",
        "import time\n",
        "from PIL import Image\n",
        "from io import BytesIO\n",
        "import matplotlib.pyplot as plt\n",
        "\n",
        "# Generate image\n",
        "response = requests.post(\n",
        "    'https://api.bfl.ai/v1/flux-kontext-pro',\n",
        "    headers={'x-key': \"BFL_API_KEY\", 'Content-Type': 'application/json'},\n",
        "    json={'prompt': 'A small furry elephant pet looks out from a cat house'}\n",
        ")\n",
        "\n",
        "polling_url = response.json()[\"polling_url\"]\n",
        "\n",
        "# Wait for result and show image\n",
        "while True:\n",
        "    result = requests.get(polling_url, headers={'x-key': \"BFL_API_KEY\"}).json()\n",
        "\n",
        "    if result[\"status\"] == \"Ready\":\n",
        "        image_url = result[\"result\"][\"sample\"]\n",
        "        image = Image.open(BytesIO(requests.get(image_url).content))\n",
        "\n",
        "        # Display in Colab\n",
        "        plt.figure(figsize=(10, 10))\n",
        "        plt.imshow(image)\n",
        "        plt.axis('off')\n",
        "        plt.show()\n",
        "        break\n",
        "\n",
        "    time.sleep(2)"
      ],
      "metadata": {
        "id": "RpRGIV8DsFxK"
      },
      "execution_count": null,
      "outputs": []
    },
    {
      "cell_type": "code",
      "source": [
        "import requests\n",
        "import base64\n",
        "from PIL import Image\n",
        "from io import BytesIO\n",
        "import time\n",
        "\n",
        "# Load and encode your image\n",
        "image = Image.open(\"<your_image.jpg>\")  # Replace with your image path\n",
        "buffered = BytesIO()\n",
        "image.save(buffered, format=\"JPEG\")\n",
        "img_str = base64.b64encode(buffered.getvalue()).decode()\n",
        "\n",
        "# Edit image\n",
        "response = requests.post(\n",
        "    'https://api.bfl.ai/v1/flux-kontext-pro',\n",
        "    headers={'x-key': \"BFL_API_KEY\", 'Content-Type': 'application/json'},\n",
        "    json={\n",
        "        'prompt': 'What you want to edit on the image',  # Replace with your edit prompt\n",
        "        'input_image': img_str,\n",
        "    }\n",
        ")\n",
        "\n",
        "polling_url = response.json()[\"polling_url\"]\n",
        "\n",
        "# Wait for result and show edited image\n",
        "while True:\n",
        "    result = requests.get(polling_url, headers={'x-key': \"BFL_API_KEY\"}).json()\n",
        "\n",
        "    if result[\"status\"] == \"Ready\":\n",
        "        image_url = result[\"result\"][\"sample\"]\n",
        "        edited_image = Image.open(BytesIO(requests.get(image_url).content))\n",
        "        display(edited_image)\n",
        "        break\n",
        "\n",
        "    time.sleep(2)"
      ],
      "metadata": {
        "id": "o9PDozDAvYhB"
      },
      "execution_count": null,
      "outputs": []
    }
  ]
}